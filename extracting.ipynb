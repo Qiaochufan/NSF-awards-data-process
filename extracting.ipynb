{
 "cells": [
  {
   "cell_type": "code",
   "execution_count": 1,
   "id": "585d8815-ef1a-4875-a779-c2f31e17b8dd",
   "metadata": {},
   "outputs": [],
   "source": [
    "import zipfile\n",
    "import os\n",
    "import json\n",
    "import pandas as pd\n",
    "\n",
    "def flatten(data, key_prefix):   \n",
    "    flat_dict = {}\n",
    "    for i, datas in enumerate(data):\n",
    "        for k, v in datas.items():\n",
    "            flat_key = f\"{key_prefix}_{i}_{k}\"\n",
    "            flat_dict[flat_key] = v\n",
    "    return flat_dict\n",
    "\n",
    "def extract(year):\n",
    "    zip_path = f'NSF/extraction/{year}.zip'\n",
    "    extract_path = f'NSF/extraction/{year}'\n",
    "    output_csv_path = f'NSF/awards/{year}.csv'\n",
    "\n",
    "    os.makedirs(extract_path, exist_ok=True)\n",
    "    os.makedirs('NSF/awards', exist_ok=True)\n",
    "\n",
    "    # Extract zip file\n",
    "    with zipfile.ZipFile(zip_path, 'r') as zip_ref:\n",
    "        zip_ref.extractall(extract_path)\n",
    "    print(\"Success extracting\")\n",
    "\n",
    "    all_records = []\n",
    "\n",
    "    # flatten all files\n",
    "    for filename in os.listdir(extract_path):\n",
    "        if filename.endswith('.json'):\n",
    "            file_path = os.path.join(extract_path, filename)\n",
    "            with open(file_path, 'r', encoding='utf-8') as f:\n",
    "                data = json.load(f)\n",
    "            \n",
    "            flat_data = {}\n",
    "            for k, v in data.items():\n",
    "                if isinstance(v, list):              \n",
    "                    if v and isinstance(v[0], dict):\n",
    "                        flat_data.update(flatten(v, k))\n",
    "                    else:\n",
    "                        flat_data[k] = ', '.join(map(str, v))\n",
    "                elif isinstance(v, dict):\n",
    "                    for sub_k, sub_v in v.items():\n",
    "                        flat_data[f\"{k}_{sub_k}\"] = sub_v\n",
    "                else:\n",
    "                    flat_data[k] = v\n",
    "            \n",
    "            all_records.append(flat_data)\n",
    "\n",
    "    # Convert to DataFrame and write to CSV\n",
    "    df = pd.DataFrame(all_records)\n",
    "    df.to_csv(output_csv_path, index=False)\n",
    "    print(\"Converted to CSV successfully\")\n",
    "\n",
    "  \n",
    "\n"
   ]
  },
  {
   "cell_type": "code",
   "execution_count": 13,
   "id": "bf50f056-868e-4ca1-8b72-8cbf61f55512",
   "metadata": {},
   "outputs": [
    {
     "name": "stdout",
     "output_type": "stream",
     "text": [
      "Success extracting\n",
      "Converted to CSV successfully\n",
      "Success extracting\n",
      "Converted to CSV successfully\n",
      "Success extracting\n",
      "Converted to CSV successfully\n",
      "Success extracting\n",
      "Converted to CSV successfully\n"
     ]
    }
   ],
   "source": [
    "for years in range(1960,2026):\n",
    "   extract(years)"
   ]
  },
  {
   "cell_type": "code",
   "execution_count": null,
   "id": "2ea713db-2a4a-495a-af8e-8cd534dd87a7",
   "metadata": {},
   "outputs": [],
   "source": []
  }
 ],
 "metadata": {
  "kernelspec": {
   "display_name": "Python [conda env:base] *",
   "language": "python",
   "name": "conda-base-py"
  },
  "language_info": {
   "codemirror_mode": {
    "name": "ipython",
    "version": 3
   },
   "file_extension": ".py",
   "mimetype": "text/x-python",
   "name": "python",
   "nbconvert_exporter": "python",
   "pygments_lexer": "ipython3",
   "version": "3.12.7"
  }
 },
 "nbformat": 4,
 "nbformat_minor": 5
}
