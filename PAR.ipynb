{
 "cells": [
  {
   "cell_type": "code",
   "execution_count": 28,
   "id": "bbac7d5b-c3ce-4b1f-8ae6-3adeb487d814",
   "metadata": {},
   "outputs": [],
   "source": [
    "from tqdm import tqdm \n",
    "import requests\n",
    "import time\n",
    "from bs4 import BeautifulSoup\n",
    "import pandas as pd\n",
    "from concurrent.futures import ThreadPoolExecutor, as_completed\n",
    "import re\n",
    "def get_par_papers(award_id):\n",
    "    url = f\"https://par.nsf.gov/search/term:{award_id}\"\n",
    "    headers = {\"User-Agent\": \"Mozilla/5.0\"}\n",
    "\n",
    "    try:\n",
    "        response = requests.get(url, headers=headers, timeout=10)\n",
    "        response.raise_for_status()\n",
    "        soup = BeautifulSoup(response.text, \"html.parser\")\n",
    "\n",
    "        papers = []\n",
    "        for article_div in soup.select(\"div.article.item.document\"):\n",
    "            # Title\n",
    "            title_tag = article_div.select_one(\"div.title a[itemprop='url'] span[itemprop='name']\")\n",
    "            title = title_tag.get_text(strip=True) if title_tag else None\n",
    "\n",
    "            # Raw paper link\n",
    "            link_tag = article_div.select_one(\"div.title a[itemprop='url']\")\n",
    "            raw_link = link_tag[\"href\"] if link_tag and \"href\" in link_tag.attrs else None\n",
    "\n",
    "            # Extract just /biblio/xxxxx part\n",
    "            match = re.search(r\"/biblio/\\d+\", raw_link if raw_link else \"\")\n",
    "            clean_link = \"https://par.nsf.gov\" + match.group(0) if match else None\n",
    "\n",
    "            # DOI\n",
    "            doi_tag = article_div.select_one(\"div.title + div a[href*='doi.org']\")\n",
    "            doi = doi_tag[\"href\"] if doi_tag and \"href\" in doi_tag.attrs else None\n",
    "\n",
    "            # Authors\n",
    "            authors_tags = article_div.select(\"div.metadata span.authors span.author[itemprop='author']\")\n",
    "            authors = \"; \".join([a.get_text(strip=True) for a in authors_tags]) if authors_tags else None\n",
    "\n",
    "            # Date published\n",
    "            date_tag = article_div.select_one(\"div.metadata span.year time[itemprop='datePublished']\")\n",
    "            date_published = date_tag.get_text(strip=True) if date_tag else None\n",
    "\n",
    "            # Journal name\n",
    "            journal = None\n",
    "            year_span = article_div.select_one(\"div.metadata span.year\")\n",
    "            if year_span:\n",
    "                text = year_span.get_text(separator=\" \", strip=True)\n",
    "                match = re.search(r\"\\((?:.*?)\\,\\s*(.*?)\\)$\", text)\n",
    "                if match:\n",
    "                    journal = match.group(1)\n",
    "\n",
    "            papers.append((award_id, title, clean_link, doi, authors, date_published, journal))\n",
    "\n",
    "        return papers if papers else []\n",
    "\n",
    "    except Exception as e:\n",
    "        print(f\"Error for award {award_id}: {e}\")\n",
    "        return []\n",
    "\n",
    "\n",
    "def par(file_path):\n",
    "    df = pd.read_csv(file_path)\n",
    "    award_ids = df[\"awd_id\"].astype(str).tolist()\n",
    "\n",
    "    all_papers = []\n",
    "    total = len(award_ids)\n",
    "\n",
    "    with ThreadPoolExecutor(max_workers=10) as executor:\n",
    "        futures = {executor.submit(get_par_papers, aid): aid for aid in award_ids}\n",
    "        for future in tqdm(as_completed(futures), total=total, desc=\"🔎 Scraping papers\"):\n",
    "            papers = future.result()\n",
    "            if papers:\n",
    "                all_papers.extend(papers)\n",
    "\n",
    "    papers_df = pd.DataFrame(all_papers, columns=[\n",
    "        \"award_id\", \"paper_title\", \"paper_link\", \"doi\", \"authors\",\n",
    "        \"date_published\", \"journal_name\"\n",
    "    ])\n",
    "\n",
    "    # Drop rows with missing or empty paper_title\n",
    "    papers_df = papers_df.dropna(subset=[\"paper_title\"])\n",
    "    papers_df = papers_df[papers_df[\"paper_title\"].str.strip() != \"\"]\n",
    "\n",
    "    return papers_df\n",
    "\n"
   ]
  },
  {
   "cell_type": "code",
   "execution_count": 24,
   "id": "caddb32e-3cce-4a22-8b9a-ad448f4be1b5",
   "metadata": {},
   "outputs": [],
   "source": [
    "def accuracy(df,origin):\n",
    "\n",
    "    df_awards = pd.read_csv(origin)\n",
    "\n",
    "   \n",
    "    original_award_ids = set(df_awards['awd_id'].astype(str))\n",
    "    matched_award_ids = set(df['award_id'].astype(str))\n",
    "    unmatched_award_ids = original_award_ids - matched_award_ids\n",
    "    results = len(matched_award_ids )/ len(original_award_ids)\n",
    "\n",
    "\n",
    "    print(f\"Total awards in original file: {len(original_award_ids)}\")\n",
    "    print(f\"Total awards matched in results: {len(matched_award_ids)}\")\n",
    "    print(f\"Awards with no matched papers: {len(unmatched_award_ids)}\")\n",
    "    print(f\"rate of found is {results}\")\n",
    "    print()\n",
    "\n"
   ]
  },
  {
   "cell_type": "code",
   "execution_count": 11,
   "id": "dbd1d4e9-3715-4b90-ae30-555e5fb7d9f9",
   "metadata": {},
   "outputs": [
    {
     "name": "stdout",
     "output_type": "stream",
     "text": [
      " Year: 2018\n"
     ]
    },
    {
     "name": "stderr",
     "output_type": "stream",
     "text": [
      "C:\\Users\\admin\\AppData\\Local\\Temp\\ipykernel_14136\\1733548595.py:57: DtypeWarning: Columns (31,38,41,51,58,61,71,83,111,117,135,145,148,155,158,177,180,183,189,191,193,195,197,199,201,202,203,204,205,206,208,209,216,218,219,223,228,229,234,235,236,237,238,240,241,243,244,245,246,248,249,253,254,255,256,257,258,260,261,263,264,265,266,267,268,270,271,273,274,276,278,279,282,284,285,291,292,293,295,297,299,301,303,305,307,309,310,311,313,315,316,317,319,321,323,325,327,329,331,332,333,334,335,336,337,339,340,342,343,345,346,349,351,352,357,358,363,364,369,370) have mixed types. Specify dtype option on import or set low_memory=False.\n",
      "  df = pd.read_csv(file_path)\n",
      "🔎 Scraping papers: 100%|██████████| 12684/12684 [43:29<00:00,  4.86it/s] \n"
     ]
    },
    {
     "name": "stdout",
     "output_type": "stream",
     "text": [
      "✅ Done in 2618.71 seconds. Total papers: 50042\n"
     ]
    },
    {
     "name": "stderr",
     "output_type": "stream",
     "text": [
      "C:\\Users\\admin\\AppData\\Local\\Temp\\ipykernel_14136\\2039591085.py:3: DtypeWarning: Columns (31,38,41,51,58,61,71,83,111,117,135,145,148,155,158,177,180,183,189,191,193,195,197,199,201,202,203,204,205,206,208,209,216,218,219,223,228,229,234,235,236,237,238,240,241,243,244,245,246,248,249,253,254,255,256,257,258,260,261,263,264,265,266,267,268,270,271,273,274,276,278,279,282,284,285,291,292,293,295,297,299,301,303,305,307,309,310,311,313,315,316,317,319,321,323,325,327,329,331,332,333,334,335,336,337,339,340,342,343,345,346,349,351,352,357,358,363,364,369,370) have mixed types. Specify dtype option on import or set low_memory=False.\n",
      "  df_awards = pd.read_csv(origin)\n"
     ]
    },
    {
     "name": "stdout",
     "output_type": "stream",
     "text": [
      "Total awards in original file: 12684\n",
      "Total awards matched in results: 8481\n",
      "Awards with no matched papers: 4203\n",
      "rate of found is 0.6686376537369915\n",
      "\n",
      " Year: 2019\n"
     ]
    },
    {
     "name": "stderr",
     "output_type": "stream",
     "text": [
      "C:\\Users\\admin\\AppData\\Local\\Temp\\ipykernel_14136\\1733548595.py:57: DtypeWarning: Columns (31,41,53,88,103,131,134,141,153,156,161,167,169,175,181,182,187,188,190,191,193,194,196,197,200,202,203,210,213,216,218,222,224,226,234,237,240,241,248,251,253,254,255,256,257,258,259,260,261,262,263,264,265,266,267,269,270,271,272,273,274,275,276,277,279,280,282,283,284,285,286,287,288,289,291,292,293,294,295,296,297,299,300,303,305,306,308,309,311,312,314,315,317,318,323,324,329,330,335,336,339,341,342,347,348,350,351,352,353,355,356,357,358,359,361,362,363,364,365,367,369,371,373,375,377,379,381,383,385,387,389,391,393,395) have mixed types. Specify dtype option on import or set low_memory=False.\n",
      "  df = pd.read_csv(file_path)\n",
      "🔎 Scraping papers: 100%|██████████| 12180/12180 [22:33<00:00,  9.00it/s]\n"
     ]
    },
    {
     "name": "stdout",
     "output_type": "stream",
     "text": [
      "✅ Done in 3978.34 seconds. Total papers: 47284\n"
     ]
    },
    {
     "name": "stderr",
     "output_type": "stream",
     "text": [
      "C:\\Users\\admin\\AppData\\Local\\Temp\\ipykernel_14136\\2039591085.py:3: DtypeWarning: Columns (31,41,53,88,103,131,134,141,153,156,161,167,169,175,181,182,187,188,190,191,193,194,196,197,200,202,203,210,213,216,218,222,224,226,234,237,240,241,248,251,253,254,255,256,257,258,259,260,261,262,263,264,265,266,267,269,270,271,272,273,274,275,276,277,279,280,282,283,284,285,286,287,288,289,291,292,293,294,295,296,297,299,300,303,305,306,308,309,311,312,314,315,317,318,323,324,329,330,335,336,339,341,342,347,348,350,351,352,353,355,356,357,358,359,361,362,363,364,365,367,369,371,373,375,377,379,381,383,385,387,389,391,393,395) have mixed types. Specify dtype option on import or set low_memory=False.\n",
      "  df_awards = pd.read_csv(origin)\n"
     ]
    },
    {
     "name": "stdout",
     "output_type": "stream",
     "text": [
      "Total awards in original file: 12180\n",
      "Total awards matched in results: 8093\n",
      "Awards with no matched papers: 4087\n",
      "rate of found is 0.6644499178981937\n",
      "\n",
      " Year: 2020\n"
     ]
    },
    {
     "name": "stderr",
     "output_type": "stream",
     "text": [
      "C:\\Users\\admin\\AppData\\Local\\Temp\\ipykernel_14136\\1733548595.py:57: DtypeWarning: Columns (31,41,51,68,71,81,93,125,149,155,174,179,187,190,196,202,204,205,208,210,211,216,217,220,224,226,227,229,230,231,232,234,235,237,238,239,241,243,247,249,250,251,252,254,255,256,257,258,260,261,262,263,264,266,267,268,269,271,272,274,275,276,277,278,279,281,282,283,284,285,286,287,288,289,291,293,295,296,299,301,302,307,308,313,314,317,319,320,323,324,325,327,329,331,333,335,337,339,341) have mixed types. Specify dtype option on import or set low_memory=False.\n",
      "  df = pd.read_csv(file_path)\n",
      "🔎 Scraping papers: 100%|██████████| 13041/13041 [19:10<00:00, 11.34it/s]\n"
     ]
    },
    {
     "name": "stdout",
     "output_type": "stream",
     "text": [
      "✅ Done in 5134.22 seconds. Total papers: 46518\n"
     ]
    },
    {
     "name": "stderr",
     "output_type": "stream",
     "text": [
      "C:\\Users\\admin\\AppData\\Local\\Temp\\ipykernel_14136\\2039591085.py:3: DtypeWarning: Columns (31,41,51,68,71,81,93,125,149,155,174,179,187,190,196,202,204,205,208,210,211,216,217,220,224,226,227,229,230,231,232,234,235,237,238,239,241,243,247,249,250,251,252,254,255,256,257,258,260,261,262,263,264,266,267,268,269,271,272,274,275,276,277,278,279,281,282,283,284,285,286,287,288,289,291,293,295,296,299,301,302,307,308,313,314,317,319,320,323,324,325,327,329,331,333,335,337,339,341) have mixed types. Specify dtype option on import or set low_memory=False.\n",
      "  df_awards = pd.read_csv(origin)\n"
     ]
    },
    {
     "name": "stdout",
     "output_type": "stream",
     "text": [
      "Total awards in original file: 13041\n",
      "Total awards matched in results: 8844\n",
      "Awards with no matched papers: 4197\n",
      "rate of found is 0.6781688520818956\n",
      "\n",
      " Year: 2021\n"
     ]
    },
    {
     "name": "stderr",
     "output_type": "stream",
     "text": [
      "C:\\Users\\admin\\AppData\\Local\\Temp\\ipykernel_14136\\1733548595.py:57: DtypeWarning: Columns (31,41,53,93,103,113,123,134,140,162,165,175,183,185,187,189,191,193,194,211,214,217,218,219,220,221,222,223,224,225,226,227,228,229,230,232,233,234,235,236,240,242,243,246,248,249,252,254,255,257,259,260,262,264,265,267,268,270,271,273,274,276,277,280,282,283,286,288,289,291,292,293,294,296,297,299,300,301,302,303,304,305,306,307,309,310,313,315,317,319,320,321,327,328,331,333,334,337,339,340,342,343,344,345,346,347,349,350,351,352,353,354,355,356,357,359,360,361,362) have mixed types. Specify dtype option on import or set low_memory=False.\n",
      "  df = pd.read_csv(file_path)\n",
      "🔎 Scraping papers: 100%|██████████| 12161/12161 [17:31<00:00, 11.56it/s]\n"
     ]
    },
    {
     "name": "stdout",
     "output_type": "stream",
     "text": [
      "✅ Done in 6191.23 seconds. Total papers: 37861\n"
     ]
    },
    {
     "name": "stderr",
     "output_type": "stream",
     "text": [
      "C:\\Users\\admin\\AppData\\Local\\Temp\\ipykernel_14136\\2039591085.py:3: DtypeWarning: Columns (31,41,53,93,103,113,123,134,140,162,165,175,183,185,187,189,191,193,194,211,214,217,218,219,220,221,222,223,224,225,226,227,228,229,230,232,233,234,235,236,240,242,243,246,248,249,252,254,255,257,259,260,262,264,265,267,268,270,271,273,274,276,277,280,282,283,286,288,289,291,292,293,294,296,297,299,300,301,302,303,304,305,306,307,309,310,313,315,317,319,320,321,327,328,331,333,334,337,339,340,342,343,344,345,346,347,349,350,351,352,353,354,355,356,357,359,360,361,362) have mixed types. Specify dtype option on import or set low_memory=False.\n",
      "  df_awards = pd.read_csv(origin)\n"
     ]
    },
    {
     "name": "stdout",
     "output_type": "stream",
     "text": [
      "Total awards in original file: 12161\n",
      "Total awards matched in results: 7716\n",
      "Awards with no matched papers: 4445\n",
      "rate of found is 0.6344872954526766\n",
      "\n",
      " Year: 2022\n"
     ]
    },
    {
     "name": "stderr",
     "output_type": "stream",
     "text": [
      "C:\\Users\\admin\\AppData\\Local\\Temp\\ipykernel_14136\\1733548595.py:57: DtypeWarning: Columns (31,51,58,61,68,71,78,81,88,91,101,113,123,124,130,162,168,174,181,183,185,187,188,189,190,191,192,194,200,202,203,210,214,216,217,218,219,220,222,223,224,225,227,232,233,239,240,245,246,248,249,250,251,253,255,256,257,259,264,265,266,267,269,271,273,275,276,277,279,281,283,285,287,289,291,293,295,297,299,301,305,306,311,312,317,318,323,324,326,327,329,331,333,335,337,339,341,343,345,347,349) have mixed types. Specify dtype option on import or set low_memory=False.\n",
      "  df = pd.read_csv(file_path)\n",
      "🔎 Scraping papers: 100%|██████████| 11907/11907 [20:10<00:00,  9.84it/s] \n"
     ]
    },
    {
     "name": "stdout",
     "output_type": "stream",
     "text": [
      "✅ Done in 7405.56 seconds. Total papers: 26363\n"
     ]
    },
    {
     "name": "stderr",
     "output_type": "stream",
     "text": [
      "C:\\Users\\admin\\AppData\\Local\\Temp\\ipykernel_14136\\2039591085.py:3: DtypeWarning: Columns (31,51,58,61,68,71,78,81,88,91,101,113,123,124,130,162,168,174,181,183,185,187,188,189,190,191,192,194,200,202,203,210,214,216,217,218,219,220,222,223,224,225,227,232,233,239,240,245,246,248,249,250,251,253,255,256,257,259,264,265,266,267,269,271,273,275,276,277,279,281,283,285,287,289,291,293,295,297,299,301,305,306,311,312,317,318,323,324,326,327,329,331,333,335,337,339,341,343,345,347,349) have mixed types. Specify dtype option on import or set low_memory=False.\n",
      "  df_awards = pd.read_csv(origin)\n"
     ]
    },
    {
     "name": "stdout",
     "output_type": "stream",
     "text": [
      "Total awards in original file: 11907\n",
      "Total awards matched in results: 6433\n",
      "Awards with no matched papers: 5474\n",
      "rate of found is 0.540270429159318\n",
      "\n",
      " Year: 2023\n"
     ]
    },
    {
     "name": "stderr",
     "output_type": "stream",
     "text": [
      "C:\\Users\\admin\\AppData\\Local\\Temp\\ipykernel_14136\\1733548595.py:57: DtypeWarning: Columns (31,41,53,92,128,134,137,146,149,156,159,166,169,175,179,181,188,190,192,194,196,197,198,199,201,202,203,213,214,215,216,218,219,220,221,222,226,227,232,233,238,239,244,245,250,251,256,257,262,263,265,269,270,271,272,274,275,276,277,283,285,287,289,291,292,293,296,297,299,301,303) have mixed types. Specify dtype option on import or set low_memory=False.\n",
      "  df = pd.read_csv(file_path)\n",
      "🔎 Scraping papers: 100%|██████████| 12022/12022 [15:45<00:00, 12.72it/s]\n"
     ]
    },
    {
     "name": "stdout",
     "output_type": "stream",
     "text": [
      "✅ Done in 8354.98 seconds. Total papers: 17193\n"
     ]
    },
    {
     "name": "stderr",
     "output_type": "stream",
     "text": [
      "C:\\Users\\admin\\AppData\\Local\\Temp\\ipykernel_14136\\2039591085.py:3: DtypeWarning: Columns (31,41,53,92,128,134,137,146,149,156,159,166,169,175,179,181,188,190,192,194,196,197,198,199,201,202,203,213,214,215,216,218,219,220,221,222,226,227,232,233,238,239,244,245,250,251,256,257,262,263,265,269,270,271,272,274,275,276,277,283,285,287,289,291,292,293,296,297,299,301,303) have mixed types. Specify dtype option on import or set low_memory=False.\n",
      "  df_awards = pd.read_csv(origin)\n"
     ]
    },
    {
     "name": "stdout",
     "output_type": "stream",
     "text": [
      "Total awards in original file: 12022\n",
      "Total awards matched in results: 5022\n",
      "Awards with no matched papers: 7000\n",
      "rate of found is 0.4177341540509067\n",
      "\n",
      " Year: 2024\n"
     ]
    },
    {
     "name": "stderr",
     "output_type": "stream",
     "text": [
      "C:\\Users\\admin\\AppData\\Local\\Temp\\ipykernel_14136\\1733548595.py:57: DtypeWarning: Columns (31,41,53,109,116,119,155,160,163,165,168,169,170,175,183,184,185,186,188,189,190,191,192,193,194,195,196,197,198,199,201,202,203,205,206,207,208,209,210,211,212,216,217,219,220,221,222,224,225,226,227,229,230,231,234,235,236,237,247,249,251,253,257,258,263,264,269,270,275,276,281,282,285,287) have mixed types. Specify dtype option on import or set low_memory=False.\n",
      "  df = pd.read_csv(file_path)\n",
      "🔎 Scraping papers: 100%|██████████| 11687/11687 [13:39<00:00, 14.26it/s]\n"
     ]
    },
    {
     "name": "stdout",
     "output_type": "stream",
     "text": [
      "✅ Done in 9177.48 seconds. Total papers: 5965\n",
      "Total awards in original file: 11687\n",
      "Total awards matched in results: 2247\n",
      "Awards with no matched papers: 9440\n",
      "rate of found is 0.19226490972875845\n",
      "\n"
     ]
    },
    {
     "name": "stderr",
     "output_type": "stream",
     "text": [
      "C:\\Users\\admin\\AppData\\Local\\Temp\\ipykernel_14136\\2039591085.py:3: DtypeWarning: Columns (31,41,53,109,116,119,155,160,163,165,168,169,170,175,183,184,185,186,188,189,190,191,192,193,194,195,196,197,198,199,201,202,203,205,206,207,208,209,210,211,212,216,217,219,220,221,222,224,225,226,227,229,230,231,234,235,236,237,247,249,251,253,257,258,263,264,269,270,275,276,281,282,285,287) have mixed types. Specify dtype option on import or set low_memory=False.\n",
      "  df_awards = pd.read_csv(origin)\n"
     ]
    }
   ],
   "source": [
    "\n",
    "if __name__ == \"__main__\":\n",
    "    start = time.time()\n",
    "    for year in range(2017,2025):\n",
    "        print(f\" Year: {year}\")\n",
    "        file_name = f\"awards/{year}.csv\" \n",
    "\n",
    "        df = par(file_name)\n",
    "        df.to_csv(f\"PAR/par{year}.csv\", index=False)\n",
    "\n",
    "        print(f\"✅ Done in {time.time() - start:.2f} seconds. Total papers: {len(df)}\")\n",
    "        accuracy(df, file_name)\n"
   ]
  }
 ],
 "metadata": {
  "kernelspec": {
   "display_name": "Python [conda env:base] *",
   "language": "python",
   "name": "conda-base-py"
  },
  "language_info": {
   "codemirror_mode": {
    "name": "ipython",
    "version": 3
   },
   "file_extension": ".py",
   "mimetype": "text/x-python",
   "name": "python",
   "nbconvert_exporter": "python",
   "pygments_lexer": "ipython3",
   "version": "3.12.7"
  }
 },
 "nbformat": 4,
 "nbformat_minor": 5
}
